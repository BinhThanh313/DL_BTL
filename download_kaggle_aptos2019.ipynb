{
 "cells": [
  {
   "cell_type": "markdown",
   "id": "1e38006e",
   "metadata": {},
   "source": [
    "# Hướng dẫn tải dataset aptos2019-blindness-detection từ Kaggle\n",
    "\n",
    "Notebook này hướng dẫn từng bước để tải và giải nén dữ liệu từ cuộc thi [aptos2019-blindness-detection](https://www.kaggle.com/competitions/aptos2019-blindness-detection) trên Kaggle về máy local."
   ]
  },
  {
   "cell_type": "markdown",
   "id": "ac661136",
   "metadata": {},
   "source": [
    "## 1. Cài đặt và nhập các thư viện cần thiết\n",
    "\n",
    "- Cài đặt thư viện `kaggle` nếu chưa có.\n",
    "- Import các thư viện cần thiết như `os`, `zipfile`."
   ]
  },
  {
   "cell_type": "code",
   "execution_count": 1,
   "id": "976b0004",
   "metadata": {},
   "outputs": [],
   "source": [
    "# Cài đặt kaggle nếu chưa có\n",
    "!pip install -q kaggle\n",
    "\n",
    "import os\n",
    "import zipfile"
   ]
  },
  {
   "cell_type": "markdown",
   "id": "f4e08a75",
   "metadata": {},
   "source": [
    "## 2. Cấu hình API Kaggle\n",
    "\n",
    "- Đăng nhập vào [Kaggle](https://www.kaggle.com/), vào mục \"Account\" và tải file `kaggle.json` (API Token).\n",
    "- Tải file `kaggle.json` lên thư mục hiện tại hoặc thư mục `~/.kaggle/`.\n",
    "- Thiết lập quyền truy cập cho file và cấu hình biến môi trường."
   ]
  },
  {
   "cell_type": "code",
   "execution_count": 2,
   "id": "ead97f17",
   "metadata": {},
   "outputs": [
    {
     "name": "stderr",
     "output_type": "stream",
     "text": [
      "'chmod' is not recognized as an internal or external command,\n",
      "operable program or batch file.\n"
     ]
    }
   ],
   "source": [
    "# Nếu chạy trên Colab hoặc môi trường cloud, chạy cell này để upload kaggle.json\n",
    "#from google.colab import files\n",
    "#files.upload()  # Chọn file kaggle.json từ máy tính\n",
    "\n",
    "# Tạo thư mục .kaggle nếu chưa có\n",
    "os.makedirs(os.path.expanduser('~/.kaggle'), exist_ok=True)\n",
    "\n",
    "# Di chuyển kaggle.json vào đúng vị trí (nếu cần)\n",
    "# !mv kaggle.json ~/.kaggle/\n",
    "\n",
    "# Thiết lập quyền truy cập cho file kaggle.json\n",
    "!chmod 600 ~/.kaggle/kaggle.json"
   ]
  },
  {
   "cell_type": "markdown",
   "id": "314dcc84",
   "metadata": {},
   "source": [
    "## 3. Tải dataset từ Kaggle\n",
    "\n",
    "Sử dụng lệnh dưới đây để tải toàn bộ dữ liệu cuộc thi về thư mục hiện tại."
   ]
  },
  {
   "cell_type": "code",
   "execution_count": 3,
   "id": "8bd47b2a",
   "metadata": {},
   "outputs": [
    {
     "name": "stderr",
     "output_type": "stream",
     "text": [
      "Traceback (most recent call last):\n",
      "  File \"<frozen runpy>\", line 198, in _run_module_as_main\n",
      "  File \"<frozen runpy>\", line 88, in _run_code\n",
      "  File \"C:\\Users\\binhd\\AppData\\Local\\Programs\\Python\\Python312\\Scripts\\kaggle.exe\\__main__.py\", line 4, in <module>\n",
      "  File \"C:\\Users\\binhd\\AppData\\Local\\Programs\\Python\\Python312\\Lib\\site-packages\\kaggle\\__init__.py\", line 6, in <module>\n",
      "    api.authenticate()\n",
      "  File \"C:\\Users\\binhd\\AppData\\Local\\Programs\\Python\\Python312\\Lib\\site-packages\\kaggle\\api\\kaggle_api_extended.py\", line 434, in authenticate\n",
      "    raise IOError('Could not find {}. Make sure it\\'s located in'\n",
      "OSError: Could not find kaggle.json. Make sure it's located in C:\\Users\\binhd\\.kaggle. Or use the environment method. See setup instructions at https://github.com/Kaggle/kaggle-api/\n"
     ]
    }
   ],
   "source": [
    "# Tải toàn bộ dữ liệu cuộc thi về thư mục hiện tại\n",
    "!kaggle competitions download -c aptos2019-blindness-detection"
   ]
  },
  {
   "cell_type": "markdown",
   "id": "0f823538",
   "metadata": {},
   "source": [
    "## 4. Giải nén và kiểm tra dữ liệu đã tải\n",
    "\n",
    "Giải nén các file zip vừa tải và kiểm tra các file dữ liệu trong thư mục làm việc."
   ]
  },
  {
   "cell_type": "code",
   "execution_count": 4,
   "id": "9d5813da",
   "metadata": {},
   "outputs": [
    {
     "name": "stdout",
     "output_type": "stream",
     "text": [
      "Đang giải nén: aptos2019-blindness-detection.zip\n",
      "Các file/thư mục trong thư mục hiện tại:\n",
      "['.git', 'app.py', 'aptos2019-blindness-detection.zip', 'download_kaggle_aptos2019.ipynb', 'dr_best_model.pth', 'embedding_arcface_supcon.ipynb', 'embedding_triplet_loss.ipynb', 'gradcam_with_library.ipynb', 'preprocessing_aptos2019.ipynb', 'sample_submission.csv', 'test.csv', 'test_images', 'train.csv', 'train_classifier.ipynb', 'train_classifier.py', 'train_images', 'triplet_embedding.pth']\n"
     ]
    }
   ],
   "source": [
    "# Giải nén tất cả các file zip trong thư mục hiện tại\n",
    "for file in os.listdir('.'):\n",
    "    if file.endswith('.zip'):\n",
    "        print(f'Đang giải nén: {file}')\n",
    "        with zipfile.ZipFile(file, 'r') as zip_ref:\n",
    "            zip_ref.extractall('.')\n",
    "\n",
    "# Kiểm tra các file dữ liệu đã có\n",
    "print('Các file/thư mục trong thư mục hiện tại:')\n",
    "print(os.listdir('.'))"
   ]
  }
 ],
 "metadata": {
  "kernelspec": {
   "display_name": "Python 3",
   "language": "python",
   "name": "python3"
  },
  "language_info": {
   "codemirror_mode": {
    "name": "ipython",
    "version": 3
   },
   "file_extension": ".py",
   "mimetype": "text/x-python",
   "name": "python",
   "nbconvert_exporter": "python",
   "pygments_lexer": "ipython3",
   "version": "3.12.8"
  }
 },
 "nbformat": 4,
 "nbformat_minor": 5
}
