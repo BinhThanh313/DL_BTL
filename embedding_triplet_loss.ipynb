{
 "cells": [
  {
   "cell_type": "markdown",
   "id": "564098d0",
   "metadata": {},
   "source": [
    "# Học nhúng ảnh đáy mắt với Triplet Loss\n",
    "Notebook này hướng dẫn xây dựng pipeline học embedding cho ảnh đáy mắt bằng Triplet Loss, sử dụng EfficientNet-B3 làm backbone."
   ]
  },
  {
   "cell_type": "code",
   "execution_count": 18,
   "id": "d38dbe46",
   "metadata": {},
   "outputs": [],
   "source": [
    "import os\n",
    "import pandas as pd\n",
    "import torch\n",
    "import torch.nn as nn\n",
    "from torch.utils.data import Dataset, DataLoader\n",
    "from torchvision import transforms\n",
    "from torchvision.models import efficientnet_b3"
   ]
  },
  {
   "cell_type": "code",
   "execution_count": 19,
   "id": "142c7757",
   "metadata": {},
   "outputs": [],
   "source": [
    "# Định nghĩa dataset Triplet\n",
    "class TripletDRDataset(Dataset):\n",
    "    def __init__(self, csv_file, img_dir, transform=None):\n",
    "        self.data = pd.read_csv(csv_file)\n",
    "        self.img_dir = img_dir\n",
    "        self.transform = transform\n",
    "        self.label_to_indices = self.data.groupby('diagnosis').indices if hasattr(self.data.groupby('diagnosis'), 'indices') else self.data.groupby('diagnosis').groups\n",
    "    def __len__(self):\n",
    "        return len(self.data)\n",
    "    def __getitem__(self, idx):\n",
    "        anchor_row = self.data.iloc[idx]\n",
    "        anchor_img = Image.open(os.path.join(self.img_dir, anchor_row[0] + '.png')).convert('RGB')\n",
    "        anchor_label = int(anchor_row[1])\n",
    "        # Positive sample (cùng lớp)\n",
    "        pos_idx = idx\n",
    "        while pos_idx == idx:\n",
    "            pos_idx = np.random.choice(self.label_to_indices[anchor_label])\n",
    "        pos_row = self.data.iloc[pos_idx]\n",
    "        pos_img = Image.open(os.path.join(self.img_dir, pos_row[0] + '.png')).convert('RGB')\n",
    "        # Negative sample (khác lớp)\n",
    "        neg_label = np.random.choice([l for l in self.label_to_indices.keys() if l != anchor_label])\n",
    "        neg_idx = np.random.choice(self.label_to_indices[neg_label])\n",
    "        neg_row = self.data.iloc[neg_idx]\n",
    "        neg_img = Image.open(os.path.join(self.img_dir, neg_row[0] + '.png')).convert('RGB')\n",
    "        if self.transform:\n",
    "            anchor_img = self.transform(anchor_img)\n",
    "            pos_img = self.transform(pos_img)\n",
    "            neg_img = self.transform(neg_img)\n",
    "        return anchor_img, pos_img, neg_img"
   ]
  },
  {
   "cell_type": "code",
   "execution_count": 20,
   "id": "b5ec6ced",
   "metadata": {},
   "outputs": [],
   "source": [
    "# Transform cho embedding\n",
    "transform = transforms.Compose([\n",
    "    transforms.Resize((224, 224)),\n",
    "    transforms.ToTensor(),\n",
    "    transforms.Normalize([0.485, 0.456, 0.406], [0.229, 0.224, 0.225])\n",
    "])\n",
    "train_csv = 'aptos2019/train_split.csv'\n",
    "img_dir = 'aptos2019/train_images'\n",
    "train_dataset = TripletDRDataset(train_csv, img_dir, transform)\n",
    "train_loader = DataLoader(train_dataset, batch_size=16, shuffle=True)"
   ]
  },
  {
   "cell_type": "code",
   "execution_count": 21,
   "id": "78eb45ec",
   "metadata": {},
   "outputs": [],
   "source": [
    "# Định nghĩa mô hình embedding\n",
    "class EmbeddingNet(nn.Module):\n",
    "    def __init__(self, embedding_dim=128):\n",
    "        super().__init__()\n",
    "        self.backbone = efficientnet_b3(weights=None)\n",
    "        self.backbone.classifier[1] = nn.Linear(self.backbone.classifier[1].in_features, embedding_dim)\n",
    "    def forward(self, x):\n",
    "        return self.backbone(x)"
   ]
  },
  {
   "cell_type": "code",
   "execution_count": 22,
   "id": "1b703474",
   "metadata": {},
   "outputs": [],
   "source": [
    "# Triplet Loss\n",
    "class TripletLoss(nn.Module):\n",
    "    def __init__(self, margin=1.0):\n",
    "        super().__init__()\n",
    "        self.margin = margin\n",
    "    def forward(self, anchor, positive, negative):\n",
    "        d_pos = torch.nn.functional.pairwise_distance(anchor, positive)\n",
    "        d_neg = torch.nn.functional.pairwise_distance(anchor, negative)\n",
    "        loss = torch.relu(d_pos - d_neg + self.margin)\n",
    "        return loss.mean()"
   ]
  },
  {
   "cell_type": "code",
   "execution_count": 23,
   "id": "37550fe7",
   "metadata": {},
   "outputs": [],
   "source": [
    "from PIL import Image\n",
    "import numpy as np"
   ]
  },
  {
   "cell_type": "code",
   "execution_count": 16,
   "id": "1ff90d8c",
   "metadata": {},
   "outputs": [
    {
     "name": "stderr",
     "output_type": "stream",
     "text": [
      "C:\\Users\\binhd\\AppData\\Local\\Temp\\ipykernel_11008\\3887553420.py:12: FutureWarning: Series.__getitem__ treating keys as positions is deprecated. In a future version, integer keys will always be treated as labels (consistent with DataFrame behavior). To access a value by position, use `ser.iloc[pos]`\n",
      "  anchor_img = Image.open(os.path.join(self.img_dir, anchor_row[0] + '.png')).convert('RGB')\n",
      "C:\\Users\\binhd\\AppData\\Local\\Temp\\ipykernel_11008\\3887553420.py:13: FutureWarning: Series.__getitem__ treating keys as positions is deprecated. In a future version, integer keys will always be treated as labels (consistent with DataFrame behavior). To access a value by position, use `ser.iloc[pos]`\n",
      "  anchor_label = int(anchor_row[1])\n",
      "C:\\Users\\binhd\\AppData\\Local\\Temp\\ipykernel_11008\\3887553420.py:19: FutureWarning: Series.__getitem__ treating keys as positions is deprecated. In a future version, integer keys will always be treated as labels (consistent with DataFrame behavior). To access a value by position, use `ser.iloc[pos]`\n",
      "  pos_img = Image.open(os.path.join(self.img_dir, pos_row[0] + '.png')).convert('RGB')\n",
      "C:\\Users\\binhd\\AppData\\Local\\Temp\\ipykernel_11008\\3887553420.py:24: FutureWarning: Series.__getitem__ treating keys as positions is deprecated. In a future version, integer keys will always be treated as labels (consistent with DataFrame behavior). To access a value by position, use `ser.iloc[pos]`\n",
      "  neg_img = Image.open(os.path.join(self.img_dir, neg_row[0] + '.png')).convert('RGB')\n"
     ]
    },
    {
     "name": "stdout",
     "output_type": "stream",
     "text": [
      "Epoch 1/50 - Loss: 1.2230\n",
      "Epoch 2/50 - Loss: 1.1519\n",
      "Epoch 3/50 - Loss: 1.0291\n",
      "Epoch 4/50 - Loss: 1.0121\n",
      "Epoch 5/50 - Loss: 0.9973\n",
      "Epoch 6/50 - Loss: 0.9014\n",
      "Epoch 7/50 - Loss: 0.9350\n",
      "Epoch 8/50 - Loss: 0.8381\n",
      "Epoch 9/50 - Loss: 0.8282\n",
      "Epoch 10/50 - Loss: 0.7475\n",
      "Epoch 11/50 - Loss: 0.7118\n",
      "Epoch 12/50 - Loss: 0.6607\n",
      "Epoch 13/50 - Loss: 0.7807\n",
      "Epoch 14/50 - Loss: 0.7101\n",
      "Epoch 15/50 - Loss: 0.6735\n",
      "Epoch 16/50 - Loss: 0.6094\n",
      "Epoch 17/50 - Loss: 0.5860\n",
      "Epoch 18/50 - Loss: 0.5297\n",
      "Epoch 19/50 - Loss: 0.5472\n",
      "Epoch 20/50 - Loss: 0.4799\n",
      "Epoch 21/50 - Loss: 0.4229\n",
      "Epoch 22/50 - Loss: 0.3544\n",
      "Epoch 23/50 - Loss: 0.3928\n",
      "Epoch 24/50 - Loss: 0.3388\n",
      "Epoch 25/50 - Loss: 0.3368\n",
      "Epoch 26/50 - Loss: 0.3065\n",
      "Epoch 27/50 - Loss: 0.2730\n",
      "Epoch 28/50 - Loss: 0.1858\n",
      "Epoch 29/50 - Loss: 0.2566\n",
      "Epoch 30/50 - Loss: 0.2800\n",
      "Epoch 31/50 - Loss: 0.2591\n",
      "Epoch 32/50 - Loss: 0.3560\n",
      "Epoch 33/50 - Loss: 0.2976\n",
      "Epoch 34/50 - Loss: 0.3422\n",
      "Epoch 35/50 - Loss: 0.2245\n",
      "Epoch 36/50 - Loss: 0.1396\n",
      "Epoch 37/50 - Loss: 0.2345\n",
      "Epoch 38/50 - Loss: 0.2094\n",
      "Epoch 39/50 - Loss: 0.1355\n",
      "Epoch 40/50 - Loss: 0.1997\n",
      "Epoch 41/50 - Loss: 0.1890\n",
      "Epoch 42/50 - Loss: 0.1666\n",
      "Epoch 43/50 - Loss: 0.1811\n",
      "Epoch 44/50 - Loss: 0.1447\n",
      "Epoch 45/50 - Loss: 0.1819\n",
      "Epoch 46/50 - Loss: 0.2596\n",
      "Epoch 47/50 - Loss: 0.0809\n",
      "Epoch 48/50 - Loss: 0.2627\n",
      "Epoch 49/50 - Loss: 0.1362\n",
      "Epoch 50/50 - Loss: 0.1429\n"
     ]
    }
   ],
   "source": [
    "# Huấn luyện embedding\n",
    "device = 'cuda' if torch.cuda.is_available() else 'cpu'\n",
    "model = EmbeddingNet(embedding_dim=128).to(device)\n",
    "optimizer = torch.optim.Adam(model.parameters(), lr=1e-4)\n",
    "criterion = TripletLoss(margin=1.0)\n",
    "EPOCHS = 50\n",
    "for epoch in range(EPOCHS):\n",
    "    model.train()\n",
    "    running_loss = 0.0\n",
    "    for anchor, positive, negative in train_loader:\n",
    "        anchor = anchor.to(device)\n",
    "        positive = positive.to(device)\n",
    "        negative = negative.to(device)\n",
    "        optimizer.zero_grad()\n",
    "        anchor_emb = model(anchor)\n",
    "        pos_emb = model(positive)\n",
    "        neg_emb = model(negative)\n",
    "        loss = criterion(anchor_emb, pos_emb, neg_emb)\n",
    "        loss.backward()\n",
    "        optimizer.step()\n",
    "        running_loss += loss.item() * anchor.size(0)\n",
    "    epoch_loss = running_loss / len(train_loader.dataset)\n",
    "    print(f'Epoch {epoch+1}/{EPOCHS} - Loss: {epoch_loss:.4f}')"
   ]
  },
  {
   "cell_type": "code",
   "execution_count": 25,
   "id": "d97b2ab2",
   "metadata": {},
   "outputs": [
    {
     "name": "stderr",
     "output_type": "stream",
     "text": [
      "C:\\Users\\binhd\\AppData\\Local\\Temp\\ipykernel_11008\\606710966.py:6: FutureWarning: You are using `torch.load` with `weights_only=False` (the current default value), which uses the default pickle module implicitly. It is possible to construct malicious pickle data which will execute arbitrary code during unpickling (See https://github.com/pytorch/pytorch/blob/main/SECURITY.md#untrusted-models for more details). In a future release, the default value for `weights_only` will be flipped to `True`. This limits the functions that could be executed during unpickling. Arbitrary objects will no longer be allowed to be loaded via this mode unless they are explicitly allowlisted by the user via `torch.serialization.add_safe_globals`. We recommend you start setting `weights_only=True` for any use case where you don't have full control of the loaded file. Please open an issue on GitHub for any issues related to this experimental feature.\n",
      "  model.load_state_dict(torch.load('triplet_embedding.pth'))\n",
      "C:\\Users\\binhd\\AppData\\Local\\Temp\\ipykernel_11008\\3887553420.py:12: FutureWarning: Series.__getitem__ treating keys as positions is deprecated. In a future version, integer keys will always be treated as labels (consistent with DataFrame behavior). To access a value by position, use `ser.iloc[pos]`\n",
      "  anchor_img = Image.open(os.path.join(self.img_dir, anchor_row[0] + '.png')).convert('RGB')\n",
      "C:\\Users\\binhd\\AppData\\Local\\Temp\\ipykernel_11008\\3887553420.py:13: FutureWarning: Series.__getitem__ treating keys as positions is deprecated. In a future version, integer keys will always be treated as labels (consistent with DataFrame behavior). To access a value by position, use `ser.iloc[pos]`\n",
      "  anchor_label = int(anchor_row[1])\n",
      "C:\\Users\\binhd\\AppData\\Local\\Temp\\ipykernel_11008\\3887553420.py:19: FutureWarning: Series.__getitem__ treating keys as positions is deprecated. In a future version, integer keys will always be treated as labels (consistent with DataFrame behavior). To access a value by position, use `ser.iloc[pos]`\n",
      "  pos_img = Image.open(os.path.join(self.img_dir, pos_row[0] + '.png')).convert('RGB')\n",
      "C:\\Users\\binhd\\AppData\\Local\\Temp\\ipykernel_11008\\3887553420.py:24: FutureWarning: Series.__getitem__ treating keys as positions is deprecated. In a future version, integer keys will always be treated as labels (consistent with DataFrame behavior). To access a value by position, use `ser.iloc[pos]`\n",
      "  neg_img = Image.open(os.path.join(self.img_dir, neg_row[0] + '.png')).convert('RGB')\n",
      "C:\\Users\\binhd\\AppData\\Local\\Temp\\ipykernel_11008\\3887553420.py:13: FutureWarning: Series.__getitem__ treating keys as positions is deprecated. In a future version, integer keys will always be treated as labels (consistent with DataFrame behavior). To access a value by position, use `ser.iloc[pos]`\n",
      "  anchor_label = int(anchor_row[1])\n",
      "C:\\Users\\binhd\\AppData\\Local\\Temp\\ipykernel_11008\\3887553420.py:19: FutureWarning: Series.__getitem__ treating keys as positions is deprecated. In a future version, integer keys will always be treated as labels (consistent with DataFrame behavior). To access a value by position, use `ser.iloc[pos]`\n",
      "  pos_img = Image.open(os.path.join(self.img_dir, pos_row[0] + '.png')).convert('RGB')\n",
      "C:\\Users\\binhd\\AppData\\Local\\Temp\\ipykernel_11008\\3887553420.py:24: FutureWarning: Series.__getitem__ treating keys as positions is deprecated. In a future version, integer keys will always be treated as labels (consistent with DataFrame behavior). To access a value by position, use `ser.iloc[pos]`\n",
      "  neg_img = Image.open(os.path.join(self.img_dir, neg_row[0] + '.png')).convert('RGB')\n"
     ]
    },
    {
     "data": {
      "image/png": "[encoded data removed]",
      "text/plain": [
       "<Figure size 800x600 with 1 Axes>"
      ]
     },
     "metadata": {},
     "output_type": "display_data"
    }
   ],
   "source": [
    "# Lưu lại model Triplet Loss sau khi train\n",
    "torch.save(model.state_dict(), 'triplet_embedding.pth')\n",
    "\n",
    "# Load lại model Triplet Loss khi cần sử dụng\n",
    "model = EmbeddingNet(embedding_dim=128).to(device)\n",
    "model.load_state_dict(torch.load('triplet_embedding.pth'))\n",
    "\n",
    "# Trực quan hóa embedding bằng t-SNE\n",
    "from sklearn.manifold import TSNE\n",
    "import matplotlib.pyplot as plt\n",
    "\n",
    "# Lấy embedding và label từ một batch\n",
    "model.eval()\n",
    "with torch.no_grad():\n",
    "    anchor, positive, negative = next(iter(train_loader))\n",
    "    anchor = anchor.to(device)\n",
    "    anchor_emb = model(anchor).cpu().numpy()\n",
    "    labels = [int(l) for l in train_dataset.data.iloc[:anchor.shape[0], 1]]\n",
    "\n",
    "# t-SNE\n",
    "tsne = TSNE(n_components=2, random_state=42, perplexity=5)\n",
    "emb_2d = tsne.fit_transform(anchor_emb)\n",
    "\n",
    "plt.figure(figsize=(8,6))\n",
    "scatter = plt.scatter(emb_2d[:,0], emb_2d[:,1], c=labels, cmap='tab10', alpha=0.7)\n",
    "plt.legend(*scatter.legend_elements(), title=\"Classes\")\n",
    "plt.title('t-SNE visualization of embeddings')\n",
    "plt.show()"
   ]
  },
  {
   "cell_type": "code",
   "execution_count": 27,
   "id": "93fc26fc",
   "metadata": {},
   "outputs": [
    {
     "name": "stderr",
     "output_type": "stream",
     "text": [
      "C:\\Users\\binhd\\AppData\\Local\\Temp\\ipykernel_11008\\2486762293.py:26: FutureWarning: You are using `torch.load` with `weights_only=False` (the current default value), which uses the default pickle module implicitly. It is possible to construct malicious pickle data which will execute arbitrary code during unpickling (See https://github.com/pytorch/pytorch/blob/main/SECURITY.md#untrusted-models for more details). In a future release, the default value for `weights_only` will be flipped to `True`. This limits the functions that could be executed during unpickling. Arbitrary objects will no longer be allowed to be loaded via this mode unless they are explicitly allowlisted by the user via `torch.serialization.add_safe_globals`. We recommend you start setting `weights_only=True` for any use case where you don't have full control of the loaded file. Please open an issue on GitHub for any issues related to this experimental feature.\n",
      "  model.load_state_dict(torch.load('triplet_embedding.pth'))\n"
     ]
    },
    {
     "name": "stdout",
     "output_type": "stream",
     "text": [
      "Accuracy của embedding trên tập kiểm tra (k-NN, val_split.csv): 0.7500\n"
     ]
    }
   ],
   "source": [
    "# Đánh giá accuracy embedding bằng k-NN với model đã save (dùng val_split.csv làm test)\n",
    "class DRClassificationDataset(Dataset):\n",
    "    def __init__(self, csv_file, img_dir, transform=None):\n",
    "        self.data = pd.read_csv(csv_file)\n",
    "        self.img_dir = img_dir\n",
    "        self.transform = transform\n",
    "    def __len__(self):\n",
    "        return len(self.data)\n",
    "    def __getitem__(self, idx):\n",
    "        img_name = self.data.iloc[idx, 0] + '.png'\n",
    "        label = int(self.data.iloc[idx, 1])\n",
    "        img_path = os.path.join(self.img_dir, img_name)\n",
    "        image = Image.open(img_path).convert('RGB')\n",
    "        if self.transform:\n",
    "            image = self.transform(image)\n",
    "        return image, label\n",
    "\n",
    "# Tạo dataset và dataloader cho train/test\n",
    "train_dataset_cls = DRClassificationDataset('aptos2019/train_split.csv', 'aptos2019/train_images', transform)\n",
    "test_dataset_cls = DRClassificationDataset('aptos2019/val_split.csv', 'aptos2019/train_images', transform)\n",
    "train_loader_cls = DataLoader(train_dataset_cls, batch_size=32, shuffle=False)\n",
    "test_loader_cls = DataLoader(test_dataset_cls, batch_size=32, shuffle=False)\n",
    "\n",
    "# Load lại model đã save\n",
    "model = EmbeddingNet(embedding_dim=128).to(device)\n",
    "model.load_state_dict(torch.load('triplet_embedding.pth'))\n",
    "model.eval()\n",
    "\n",
    "# Trích xuất embedding và label cho train\n",
    "train_embeddings, train_labels = [], []\n",
    "with torch.no_grad():\n",
    "    for images, labels in train_loader_cls:\n",
    "        images = images.to(device)\n",
    "        emb = model(images).cpu().numpy()\n",
    "        train_embeddings.append(emb)\n",
    "        train_labels.extend(labels.numpy())\n",
    "train_embeddings = np.concatenate(train_embeddings, axis=0)\n",
    "\n",
    "# Trích xuất embedding và label cho test\n",
    "test_embeddings, test_labels = [], []\n",
    "with torch.no_grad():\n",
    "    for images, labels in test_loader_cls:\n",
    "        images = images.to(device)\n",
    "        emb = model(images).cpu().numpy()\n",
    "        test_embeddings.append(emb)\n",
    "        test_labels.extend(labels.numpy())\n",
    "test_embeddings = np.concatenate(test_embeddings, axis=0)\n",
    "\n",
    "# Đánh giá bằng k-NN\n",
    "from sklearn.neighbors import KNeighborsClassifier\n",
    "from sklearn.metrics import accuracy_score\n",
    "knn = KNeighborsClassifier(n_neighbors=5)\n",
    "knn.fit(train_embeddings, train_labels)\n",
    "preds = knn.predict(test_embeddings)\n",
    "acc = accuracy_score(test_labels, preds)\n",
    "print(f'Accuracy của embedding trên tập kiểm tra (k-NN, val_split.csv): {acc:.4f}')"
   ]
  },
  {
   "cell_type": "code",
   "execution_count": 17,
   "id": "7ca4f3e9",
   "metadata": {},
   "outputs": [
    {
     "name": "stderr",
     "output_type": "stream",
     "text": [
      "C:\\Users\\binhd\\AppData\\Local\\Temp\\ipykernel_11008\\3887553420.py:12: FutureWarning: Series.__getitem__ treating keys as positions is deprecated. In a future version, integer keys will always be treated as labels (consistent with DataFrame behavior). To access a value by position, use `ser.iloc[pos]`\n",
      "  anchor_img = Image.open(os.path.join(self.img_dir, anchor_row[0] + '.png')).convert('RGB')\n",
      "C:\\Users\\binhd\\AppData\\Local\\Temp\\ipykernel_11008\\3887553420.py:13: FutureWarning: Series.__getitem__ treating keys as positions is deprecated. In a future version, integer keys will always be treated as labels (consistent with DataFrame behavior). To access a value by position, use `ser.iloc[pos]`\n",
      "  anchor_label = int(anchor_row[1])\n",
      "C:\\Users\\binhd\\AppData\\Local\\Temp\\ipykernel_11008\\3887553420.py:19: FutureWarning: Series.__getitem__ treating keys as positions is deprecated. In a future version, integer keys will always be treated as labels (consistent with DataFrame behavior). To access a value by position, use `ser.iloc[pos]`\n",
      "  pos_img = Image.open(os.path.join(self.img_dir, pos_row[0] + '.png')).convert('RGB')\n",
      "C:\\Users\\binhd\\AppData\\Local\\Temp\\ipykernel_11008\\3887553420.py:24: FutureWarning: Series.__getitem__ treating keys as positions is deprecated. In a future version, integer keys will always be treated as labels (consistent with DataFrame behavior). To access a value by position, use `ser.iloc[pos]`\n",
      "  neg_img = Image.open(os.path.join(self.img_dir, neg_row[0] + '.png')).convert('RGB')\n"
     ]
    },
    {
     "name": "stdout",
     "output_type": "stream",
     "text": [
      "Khoảng cách anchor-positive: [ 2.0232656   2.5003211   0.15335122  0.32640013  2.2511125   2.0989816\n",
      "  1.3485038   1.3315696   1.633931    0.9681665  20.613558    0.627355\n",
      "  0.42920464  7.442268    1.2859613   1.6527269 ]\n",
      "Khoảng cách anchor-negative: [1.877018  0.4039245 1.8693936 4.3816366 3.0973732 4.515834  2.8409703\n",
      " 2.256331  4.252901  3.355557  5.0695233 4.506646  4.627208  4.4992304\n",
      " 2.015409  4.043021 ]\n"
     ]
    }
   ],
   "source": [
    "# Kiểm tra embedding: khoảng cách giữa các ảnh cùng lớp và khác lớp\n",
    "import numpy as np\n",
    "model.eval()\n",
    "with torch.no_grad():\n",
    "    anchor, positive, negative = next(iter(train_loader))\n",
    "    anchor = anchor.to(device)\n",
    "    positive = positive.to(device)\n",
    "    negative = negative.to(device)\n",
    "    anchor_emb = model(anchor)\n",
    "    pos_emb = model(positive)\n",
    "    neg_emb = model(negative)\n",
    "    d_pos = torch.nn.functional.pairwise_distance(anchor_emb, pos_emb)\n",
    "    d_neg = torch.nn.functional.pairwise_distance(anchor_emb, neg_emb)\n",
    "    print('Khoảng cách anchor-positive:', d_pos.cpu().numpy())\n",
    "    print('Khoảng cách anchor-negative:', d_neg.cpu().numpy())"
   ]
  }
 ],
 "metadata": {
  "kernelspec": {
   "display_name": "Python 3",
   "language": "python",
   "name": "python3"
  },
  "language_info": {
   "codemirror_mode": {
    "name": "ipython",
    "version": 3
   },
   "file_extension": ".py",
   "mimetype": "text/x-python",
   "name": "python",
   "nbconvert_exporter": "python",
   "pygments_lexer": "ipython3",
   "version": "3.12.8"
  }
 },
 "nbformat": 4,
 "nbformat_minor": 5
}
